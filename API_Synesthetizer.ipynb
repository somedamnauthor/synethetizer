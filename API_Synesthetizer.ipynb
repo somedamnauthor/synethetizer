{
 "cells": [
  {
   "cell_type": "markdown",
   "id": "9a61a373",
   "metadata": {},
   "source": [
    "# Setup"
   ]
  },
  {
   "cell_type": "code",
   "execution_count": 100,
   "id": "24aaacc3",
   "metadata": {},
   "outputs": [
    {
     "name": "stdout",
     "output_type": "stream",
     "text": [
      "Collecting opencv-python\n",
      "  Using cached opencv_python-4.5.5.64-cp36-abi3-manylinux_2_17_x86_64.manylinux2014_x86_64.whl (60.5 MB)\n",
      "Requirement already satisfied: numpy>=1.14.5; python_version >= \"3.7\" in /home/srishankar/.local/lib/python3.8/site-packages (from opencv-python) (1.21.0)\n",
      "Installing collected packages: opencv-python\n",
      "Successfully installed opencv-python-4.5.5.64\n"
     ]
    }
   ],
   "source": [
    "import matplotlib.pyplot as plt\n",
    "import sys\n",
    "\n",
    "# !pip install torchvision\n",
    "import torch\n",
    "\n",
    "import torch.nn as nn\n",
    "import torch.nn.functional as F\n",
    "import numpy as np\n",
    "import matplotlib.pyplot as plt\n",
    "from IPython import display\n",
    "from matplotlib import colors\n",
    "import os, copy\n",
    "from PIL import Image\n",
    "\n",
    "!pip install opencv-python"
   ]
  },
  {
   "cell_type": "markdown",
   "id": "3fc09e79",
   "metadata": {},
   "source": [
    "# Get Notes"
   ]
  },
  {
   "cell_type": "code",
   "execution_count": 2,
   "id": "f64209d8",
   "metadata": {},
   "outputs": [
    {
     "name": "stdout",
     "output_type": "stream",
     "text": [
      "['C', 'D', 'E', 'F', 'C', 'D', 'E', 'F', 'C', 'D', 'E', 'F', 'C', 'D', 'E', 'F', 'C', 'D', 'E', 'F', 'C', 'D', 'E', 'F', 'C', 'D', 'E', 'F', 'C', 'D', 'E', 'F', 'C', 'D', 'E', 'F', 'C', 'D', 'E', 'F']\n"
     ]
    }
   ],
   "source": [
    "my_file = open(\"notes.txt\", \"r\")\n",
    "content_list = my_file.readlines()\n",
    "notes = []\n",
    "for note in content_list:\n",
    "    if note[0]!='\\n':\n",
    "        notes.append(note[0])\n",
    "    \n",
    "print(notes)"
   ]
  },
  {
   "cell_type": "markdown",
   "id": "7431d422",
   "metadata": {},
   "source": [
    "# Clean the notes"
   ]
  },
  {
   "cell_type": "code",
   "execution_count": 9,
   "id": "03814092",
   "metadata": {},
   "outputs": [],
   "source": [
    "#TODO - Implement cleaning\n",
    "cleanNotes = notes"
   ]
  },
  {
   "cell_type": "markdown",
   "id": "4379cff2",
   "metadata": {},
   "source": [
    "# Generate a color map"
   ]
  },
  {
   "cell_type": "code",
   "execution_count": 7,
   "id": "6d63269c",
   "metadata": {},
   "outputs": [],
   "source": [
    "\"\"\"\n",
    "Define a dictionary showing the mapping between the note and a color\n",
    "\n",
    "One possible mapping is the Scriabin keys - https://en.wikipedia.org/wiki/Clavier_%C3%A0_lumi%C3%A8res\n",
    "\"\"\"\n",
    "\n",
    "scriabinDict = {\"C\":\"#ff0000\", \"C#\": \"#cf9bff\", \"D\": \"#ffff00\", \"D#\":\"#65659a\", \"E\": \"#e4fbff\", \"F\": \"#ae1600\", \"F#\": \"#00cdff\", \"G\": \"#ff6500\", \"G#\": \"#ff00ff\", \"A\": \"#30cd30\", \"A#\": \"#8d8b8d\", \"B\": \"#0000fe\"}\n",
    "#scriabinDict"
   ]
  },
  {
   "cell_type": "code",
   "execution_count": null,
   "id": "6145c9e5",
   "metadata": {},
   "outputs": [],
   "source": [
    "scriabinDictRGB = {\n",
    "    \"C\":\n",
    "    \"C#\":\n",
    "    \"D\":\n",
    "    \"D#\":\n",
    "    \"E\":\n",
    "    \"F\":\n",
    "    \"F#\":\n",
    "    \"G\":\n",
    "    \"G#\":\n",
    "    \"A\":\n",
    "    \"A#\":\n",
    "    \"B\":\n",
    "}"
   ]
  },
  {
   "cell_type": "code",
   "execution_count": 8,
   "id": "03fc38e0",
   "metadata": {},
   "outputs": [],
   "source": [
    "\"\"\"\n",
    "Convert the list of notes into a list of corresponding hex values\n",
    "\"\"\"\n",
    "\n",
    "hexList = []\n",
    "\n",
    "for note in cleanNotes:\n",
    "    for notekey, notehex in scriabinDict.items():\n",
    "        if note == notekey:\n",
    "            hexList.append(notehex)\n",
    "            \n",
    "#hexList"
   ]
  },
  {
   "cell_type": "code",
   "execution_count": 10,
   "id": "f6edddb0",
   "metadata": {},
   "outputs": [],
   "source": [
    "\"\"\"\n",
    "Function to find the 'best' factor pair\n",
    "\n",
    "The aim is to create a rectangular grid, each cell containing colors from the list. \n",
    "\n",
    "The rectangle closest to looking like an image is one that is neither too tall or too wide. This means a length and\n",
    "breadth that are closest to each other. \n",
    "\n",
    "This function calculates all the possible pairs of factors for the length of the list and picks the pair that has \n",
    "the least difference between the numbers of the pair\n",
    "\"\"\"\n",
    "\n",
    "def findBestFactorPair(n): \n",
    "    newdiff = 10000\n",
    "    for i in range(1, int(pow(n, 1 / 2))+1): \n",
    "        if n % i == 0: \n",
    "            if ((n/i)-i)<newdiff:\n",
    "                xfact = i\n",
    "                yfact = n/i\n",
    "    return xfact,int(yfact)"
   ]
  },
  {
   "cell_type": "code",
   "execution_count": 11,
   "id": "0612277c",
   "metadata": {},
   "outputs": [],
   "source": [
    "\"\"\"\n",
    "Call the function to find the length and breadth of the rectangular grid we are going to create\n",
    "\n",
    "But before we do that, in order to avoid prime number lengths, the list popped is once if the length of the list is\n",
    "an odd number. \n",
    "\n",
    "This might sound wonky but it feels much faster compared to actually checking for a prime number and handling that\n",
    "case, especially when we are obfuscating the image a bunch. Therefore the length of the list will always be even.\n",
    "\n",
    "TODO - In case the implementation of the note-grabbing gets really accurate we might need to change this to reflect\n",
    "a similar level of accuracy.\n",
    "\"\"\"\n",
    "\n",
    "if len(hexList)%2 != 0:\n",
    "    hexList.pop()\n",
    "\n",
    "xfact,yfact = findBestFactorPair(len(hexList))"
   ]
  },
  {
   "cell_type": "code",
   "execution_count": 14,
   "id": "16cf06e8",
   "metadata": {},
   "outputs": [
    {
     "data": {
      "image/png": "[encoded data removed]",
      "text/plain": [
       "<Figure size 1440x720 with 1 Axes>"
      ]
     },
     "metadata": {},
     "output_type": "display_data"
    }
   ],
   "source": [
    "\"\"\"\n",
    "Time to get the grid up!\n",
    "\n",
    "Doing a bunch of stuff with matplotlib so that it ends up with a big image that doesn't have those pesky ticks and\n",
    "labels\n",
    "\n",
    "The final image is written onto a file called \"Grid.png\" at the same level as this notebook\n",
    "\"\"\"\n",
    "\n",
    "from matplotlib.colors import to_rgba_array\n",
    "\n",
    "plt.figure(figsize=(20, 10))\n",
    "\n",
    "plt.tick_params(left=False,\n",
    "                bottom=False,\n",
    "                labelleft=False,\n",
    "                labelbottom=False)\n",
    "\n",
    "plt.imshow(to_rgba_array(hexList).reshape(xfact,yfact,4))\n",
    "\n",
    "plt.savefig('Grid.png', bbox_inches='tight')"
   ]
  },
  {
   "cell_type": "markdown",
   "id": "7b454cde",
   "metadata": {},
   "source": [
    "# Neural Network to generate an pattern map"
   ]
  },
  {
   "cell_type": "code",
   "execution_count": 40,
   "id": "7729eb16",
   "metadata": {},
   "outputs": [],
   "source": [
    "def init_normal(m):\n",
    "    if type(m) == nn.Linear:        \n",
    "        nn.init.normal_(m.weight)\n",
    "\n",
    "\n",
    "class NN(nn.Module):\n",
    "\n",
    "    def __init__(self, activation=nn.Tanh, num_neurons=16, num_layers=9):\n",
    "        \"\"\"\n",
    "        num_layers must be at least two\n",
    "        \"\"\"\n",
    "        super(NN, self).__init__()\n",
    "        \n",
    "#         layers = [nn.Linear(2, num_neurons, bias=True), activation()]\n",
    "#         for _ in range(num_layers - 1):\n",
    "#             layers += [nn.Linear(num_neurons, num_neurons, bias=False), activation()]\n",
    "#         layers += [nn.Linear(num_neurons, 3, bias=False), nn.Sigmoid()]\n",
    "#         self.layers = nn.Sequential(*layers)\n",
    "        hidden_n = 128\n",
    "        self.layers = nn.Sequential(nn.Linear(2, hidden_n, bias=True),\n",
    "                                    nn.Tanh(),\n",
    "                                    nn.Linear(128, 64, bias=False),\n",
    "                                    nn.Tanh(),\n",
    "                                    nn.Linear(64, 32, bias=False),\n",
    "                                    nn.Tanh(),\n",
    "                                    nn.Linear(32, 16, bias=False),\n",
    "                                    nn.Tanh(),\n",
    "                                    nn.Linear(16, 8, bias=False),\n",
    "                                    nn.Tanh(),\n",
    "                                    nn.Linear(8, 4, bias=False),\n",
    "                                    nn.Tanh(),\n",
    "                                    nn.Linear(4, 3, bias=False),\n",
    "                                    nn.Sigmoid())\n",
    "        \n",
    "\n",
    "\n",
    "    def forward(self, x):\n",
    "        return self.layers(x)\n",
    "\n",
    "\n",
    "def gen_new_image(size_x, size_y, save=True, **kwargs):\n",
    "    \n",
    "    net = NN(**kwargs)\n",
    "    net.apply(init_normal)\n",
    "    colors = run_net(net, size_x, size_y)\n",
    "    \n",
    "#     print(\"Colors:\",colors)\n",
    "#     print(\"Colors shape:\",colors.shape)\n",
    "    \n",
    "    plot_colors(colors)\n",
    "    if save is True:\n",
    "        save_colors(colors)\n",
    "        \n",
    "    return net, colors\n",
    "\n",
    "\n",
    "def run_net(net, size_x=128, size_y=128):\n",
    "    x = np.arange(0, size_x, 1)\n",
    "    y = np.arange(0, size_y, 1)\n",
    "    colors = np.zeros((size_x, size_y, 2))\n",
    "    for i in x:\n",
    "        for j in y:\n",
    "            colors[i][j] = np.array([float(i) / size_y - 0.5, float(j) / size_x - 0.5])\n",
    "    colors = colors.reshape(size_x * size_y, 2)\n",
    "    img = net(torch.tensor(colors).type(torch.FloatTensor)).detach().numpy()\n",
    "    return img.reshape(size_x, size_y, 3)\n",
    "\n",
    "\n",
    "def plot_colors(colors, fig_size=4):\n",
    "    plt.figure(figsize=(fig_size, fig_size))\n",
    "    plt.imshow(colors, interpolation='nearest', vmin=0, vmax=1)\n",
    "\n",
    "\n",
    "def save_colors(colors):\n",
    "    plt.imsave('Outputs/' + str(np.random.randint(100000)) + \".png\", colors)\n",
    "\n",
    "\n",
    "def run_plot_save(net, size_x, size_y, fig_size=8):\n",
    "    colors = run_net(net, size_x, size_y)\n",
    "    plot_colors(colors, fig_size)\n",
    "    save_colors(colors)"
   ]
  },
  {
   "cell_type": "code",
   "execution_count": 41,
   "id": "132e0d65",
   "metadata": {},
   "outputs": [
    {
     "data": {
      "image/png": "[encoded data removed]",
      "text/plain": [
       "<Figure size 288x288 with 1 Axes>"
      ]
     },
     "metadata": {
      "needs_background": "light"
     },
     "output_type": "display_data"
    }
   ],
   "source": [
    "n,c = gen_new_image(128, 128, save=True, num_neurons=32)"
   ]
  },
  {
   "cell_type": "markdown",
   "id": "a1a33028",
   "metadata": {},
   "source": [
    "# Apply the color map to the pattern map"
   ]
  },
  {
   "cell_type": "code",
   "execution_count": 96,
   "id": "2a225bc5",
   "metadata": {},
   "outputs": [],
   "source": [
    "# def QuantizeToGivenPalette(im, palette):\n",
    "#     \"\"\"Quantize image to a given palette.\n",
    "\n",
    "#     The input image is expected to be a PIL Image.\n",
    "#     The palette is expected to be a list of no more than 256 R,G,B values.\"\"\"\n",
    "\n",
    "#     e = len(palette)\n",
    "#     assert e>0,    \"Palette unexpectedly short\"\n",
    "#     assert e<=768, \"Palette unexpectedly long\"\n",
    "#     assert e%3==0, \"Palette not multiple of 3, so not RGB\"\n",
    "\n",
    "#     # Make tiny, 1x1 new palette image\n",
    "#     p = Image.new(\"P\", (1,1))\n",
    "\n",
    "#     # Zero-pad the palette to 256 RGB colours, i.e. 768 values and apply to image\n",
    "#     palette += (768-e)*[0]\n",
    "#     p.putpalette(palette)\n",
    "\n",
    "#     # Now quantize input image to the same palette as our little image\n",
    "#     return im.convert(\"RGB\").quantize(palette=p)"
   ]
  },
  {
   "cell_type": "code",
   "execution_count": 97,
   "id": "b49c6962",
   "metadata": {},
   "outputs": [],
   "source": [
    "# im = Image.open('Outputs/88063.png').convert('RGB')\n",
    "\n",
    "# inPalette = [\n",
    "#     0,0,0,    # black\n",
    "#     255,0,0,  # red\n",
    "#     0,255,0,  # green\n",
    "#     0,0,255,  # blue\n",
    "#     255,255,255 # white\n",
    "#     ]\n",
    "# r = QuantizeToGivenPalette(im,inPalette)\n",
    "\n",
    "\n",
    "\n",
    "# # Now simply replace the palette leaving the indices unchanged\n",
    "# newPalette = [\n",
    "#     255,0,255,    # magenta\n",
    "#     255,0,255,    # magenta\n",
    "#     255,0,255,    # magenta\n",
    "#     255,0,255,    # magenta\n",
    "#     255,255,0,    # yellow\n",
    "#     ]\n",
    "# # Zero-pad the palette to 256 RGB colours, i.e. 768 values\n",
    "# newPalette += (768-len(newPalette))*[0]\n",
    "\n",
    "# # And finally replace the palette with the new one\n",
    "# r.putpalette(newPalette)\n",
    "\n",
    "\n",
    "\n",
    "# # Save result\n",
    "# r.save('Outputs/88063Shifted.png')"
   ]
  },
  {
   "cell_type": "code",
   "execution_count": null,
   "id": "9f63e79a",
   "metadata": {},
   "outputs": [],
   "source": [
    "import cv2\n",
    "\n",
    "originalImage = cv2.imread('Outputs/88063.png')\n",
    "grayImage = cv2.cvtColor(originalImage, cv2.COLOR_BGR2GRAY)\n",
    "  \n",
    "(thresh, blackAndWhiteImage) = cv2.threshold(grayImage, 127, 255, cv2.THRESH_BINARY)\n",
    " \n",
    "cv2.imshow('Black white image', blackAndWhiteImage)\n",
    "cv2.imshow('Original image',originalImage)\n",
    "cv2.imshow('Gray image', grayImage)"
   ]
  },
  {
   "cell_type": "code",
   "execution_count": 85,
   "id": "3a0e856f",
   "metadata": {},
   "outputs": [],
   "source": []
  }
 ],
 "metadata": {
  "kernelspec": {
   "display_name": "Python 3.8.10 64-bit",
   "language": "python",
   "name": "python3810jvsc74a57bd0916dbcbb3f70747c44a77c7bcd40155683ae19c65e1c03b4aa3499c5328201f1"
  },
  "language_info": {
   "codemirror_mode": {
    "name": "ipython",
    "version": 3
   },
   "file_extension": ".py",
   "mimetype": "text/x-python",
   "name": "python",
   "nbconvert_exporter": "python",
   "pygments_lexer": "ipython3",
   "version": "3.8.10"
  }
 },
 "nbformat": 4,
 "nbformat_minor": 5
}
